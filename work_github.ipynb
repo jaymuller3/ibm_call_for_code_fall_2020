{
 "cells": [
  {
   "cell_type": "code",
   "execution_count": null,
   "metadata": {},
   "outputs": [],
   "source": [
    "import numpy as np\n",
    "import pandas as pd \n",
    "import matplotlib.pyplot as plt\n",
    "import os\n",
    "\n",
    "#for dirname, _, filenames in os.walk('../xprize/xprize_covid_19/5e94c17192a5305798752c46'):\n",
    "#    for filename in filenames:\n",
    "#        print(os.path.join(dirname, filename))\n",
    "\n",
    "%matplotlib inline"
   ]
  },
  {
   "cell_type": "markdown",
   "metadata": {},
   "source": [
    "#### Loading Data:"
   ]
  },
  {
   "cell_type": "code",
   "execution_count": 1,
   "metadata": {},
   "outputs": [
    {
     "name": "stdout",
     "output_type": "stream",
     "text": [
      "head: cannot open 'xprize/xprize_covid_19/5e84c271992ced1350f9f229/us-counties.csv' for reading: No such file or directory\r\n"
     ]
    }
   ],
   "source": [
    "!head xprize/xprize_covid_19/5e84c271992ced1350f9f229/us-counties.csv"
   ]
  },
  {
   "cell_type": "code",
   "execution_count": null,
   "metadata": {},
   "outputs": [],
   "source": [
    "!head xprize/xprize_covid_19/5e94c17192a5305798752c46/us-county-health-rankings-2020.csv"
   ]
  },
  {
   "cell_type": "code",
   "execution_count": null,
   "metadata": {},
   "outputs": [],
   "source": [
    "healthInfo = pd.read_csv('xprize/xprize_covid_19/5e94c17192a5305798752c46/us-county-health-rankings-2020.csv', usecols=[i for i in range(248)], sep=',', engine = 'python')\n",
    "\n",
    "covidInfo = pd.read_csv('xprize/xprize_covid_19/5e8e0f326a79ef2d7cc5a61d/confirmed-covid-19-cases-in-us-by-state-and-county.csv', sep=',', header=0, usecols=[i for i in range(109)])"
   ]
  },
  {
   "cell_type": "code",
   "execution_count": null,
   "metadata": {},
   "outputs": [],
   "source": [
    "healthInfo.head()"
   ]
  },
  {
   "cell_type": "code",
   "execution_count": null,
   "metadata": {},
   "outputs": [],
   "source": [
    "covidInfo.head()"
   ]
  },
  {
   "cell_type": "code",
   "execution_count": null,
   "metadata": {},
   "outputs": [],
   "source": [
    "healthInfo.shape()"
   ]
  },
  {
   "cell_type": "code",
   "execution_count": null,
   "metadata": {},
   "outputs": [],
   "source": [
    "healthInfo.info()"
   ]
  }
 ],
 "metadata": {
  "kernelspec": {
   "display_name": "Python 3",
   "language": "python",
   "name": "python3"
  },
  "language_info": {
   "codemirror_mode": {
    "name": "ipython",
    "version": 3
   },
   "file_extension": ".py",
   "mimetype": "text/x-python",
   "name": "python",
   "nbconvert_exporter": "python",
   "pygments_lexer": "ipython3",
   "version": "3.6.9"
  }
 },
 "nbformat": 4,
 "nbformat_minor": 4
}
